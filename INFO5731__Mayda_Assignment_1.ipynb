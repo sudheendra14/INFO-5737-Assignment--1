{
  "nbformat": 4,
  "nbformat_minor": 0,
  "metadata": {
    "colab": {
      "name": "INFO5731_ Mayda Assignment -1.ipynb",
      "provenance": [],
      "collapsed_sections": []
    },
    "kernelspec": {
      "display_name": "Python 3",
      "language": "python",
      "name": "python3"
    },
    "language_info": {
      "codemirror_mode": {
        "name": "ipython",
        "version": 3
      },
      "file_extension": ".py",
      "mimetype": "text/x-python",
      "name": "python",
      "nbconvert_exporter": "python",
      "pygments_lexer": "ipython3",
      "version": "3.7.4"
    }
  },
  "cells": [
    {
      "cell_type": "markdown",
      "metadata": {
        "id": "view-in-github"
      },
      "source": [
        "<a href=\"https://colab.research.google.com/github/unt-iialab/INFO5731_Spring2020/blob/master/Assignments/INFO5731_Assignment_One.ipynb\" target=\"_parent\"><img src=\"https://colab.research.google.com/assets/colab-badge.svg\" alt=\"Open In Colab\"/></a>"
      ]
    },
    {
      "cell_type": "markdown",
      "metadata": {
        "id": "Ryk8D1Q4Wsrp"
      },
      "source": [
        "# **INFO5731 Assignment One**"
      ]
    },
    {
      "cell_type": "markdown",
      "metadata": {
        "id": "90_NR8c5XGWc"
      },
      "source": [
        "# Question 1\n",
        "\n",
        "(20 points). Write a Python program to generate 12 random numbers between 1 and 100. Sort the list of numbers in ascending order and print it out. Sort the list of numbers in descending order and print it out. Calculate the average for the group and print it out."
      ]
    },
    {
      "cell_type": "code",
      "metadata": {
        "colab": {
          "base_uri": "https://localhost:8080/"
        },
        "id": "5QX6bJjGWXY9",
        "outputId": "3c9f9511-0ab5-4657-d079-b5e88f2e9f49"
      },
      "source": [
        "import random\n",
        "import numpy as np\n",
        "\n",
        "random_list = random.sample(range(100), 12)\n",
        "random_list\n",
        "\n"
      ],
      "execution_count": 9,
      "outputs": [
        {
          "output_type": "execute_result",
          "data": {
            "text/plain": [
              "[48, 71, 62, 10, 49, 12, 61, 20, 16, 91, 7, 93]"
            ]
          },
          "metadata": {
            "tags": []
          },
          "execution_count": 9
        }
      ]
    },
    {
      "cell_type": "code",
      "metadata": {
        "colab": {
          "base_uri": "https://localhost:8080/"
        },
        "id": "2FLrDe1vjeWV",
        "outputId": "ee21242e-c167-450a-94bc-c01ddec3edf1"
      },
      "source": [
        "random_list.sort()\r\n",
        "print (' the list in ascending order is:', random_list)"
      ],
      "execution_count": null,
      "outputs": [
        {
          "output_type": "stream",
          "text": [
            " the list in ascending order is: [7, 8, 14, 19, 27, 40, 47, 65, 66, 69, 83, 95]\n"
          ],
          "name": "stdout"
        }
      ]
    },
    {
      "cell_type": "code",
      "metadata": {
        "colab": {
          "base_uri": "https://localhost:8080/"
        },
        "id": "O0huNUazjyfg",
        "outputId": "13bf4fa9-f209-4a5f-9a1c-48a9fe871217"
      },
      "source": [
        "random_list.sort(reverse=True)\r\n",
        "print ('the  list in descending order  is:', random_list)"
      ],
      "execution_count": null,
      "outputs": [
        {
          "output_type": "stream",
          "text": [
            "the  list in descending order  is: [95, 83, 69, 66, 65, 47, 40, 27, 19, 14, 8, 7]\n"
          ],
          "name": "stdout"
        }
      ]
    },
    {
      "cell_type": "code",
      "metadata": {
        "colab": {
          "base_uri": "https://localhost:8080/"
        },
        "id": "v9kdeDv8j7mt",
        "outputId": "b08f1bdc-7157-4e04-b089-380bc46744f7"
      },
      "source": [
        "average = sum(random_list) / len(random_list)\r\n",
        "print('The average of both random list is:'), average"
      ],
      "execution_count": null,
      "outputs": [
        {
          "output_type": "stream",
          "text": [
            "The average of both random list is:\n"
          ],
          "name": "stdout"
        },
        {
          "output_type": "execute_result",
          "data": {
            "text/plain": [
              "(None, 45.0)"
            ]
          },
          "metadata": {
            "tags": []
          },
          "execution_count": 8
        }
      ]
    },
    {
      "cell_type": "markdown",
      "metadata": {
        "id": "1F_PZdH9Sh49"
      },
      "source": [
        "# Question 2\n",
        "(25 points). Write a program that will do the following string formatting tasks:\n",
        "\n",
        "(1) Ask the user to enter two sentences.\n",
        "\n",
        "(2) Make each sentence into a list. Each element in the list should correspond to a word in the sentence. For example, if the sentence is \"Alas! Am I alive? This is my first python program\", the program should print out ['Alas, '!', 'Am', 'I', 'alive, '?', 'This', 'is', 'my', 'first', 'python', 'program'].\n",
        "\n",
        "(3) Compare the two sentences. Print out a list of words that occur in both sentences.\n",
        "\n",
        "(4) Remove any punctuation from the sentence and print it back out. It should remove at least the following characters, but it can remove more: period(“.”), comma (“,”), semicolon (“;”), and colon (“:”)\n",
        "\n",
        "(5) Count the number of vowels in the sentences. Print out each vowel and the number of times it appears in the sentences, such as: a:2, e:1, i:0, etc"
      ]
    },
    {
      "cell_type": "code",
      "metadata": {
        "colab": {
          "base_uri": "https://localhost:8080/"
        },
        "id": "Y0oOSlsOS0cq",
        "outputId": "54994848-6dd1-4478-a788-84d337abc9f2"
      },
      "source": [
        "#1\n",
        "sentence1=input(\"Enter the first sentence:\\n \")\n",
        "sentence2=input(\"Enter the second sentence:\\n \")\n",
        "\n"
      ],
      "execution_count": null,
      "outputs": [
        {
          "output_type": "stream",
          "text": [
            "Enter the first sentence:\n",
            " HI this is Sudheendra\n",
            "Enter the second sentence:\n",
            " I am senior Student\n"
          ],
          "name": "stdout"
        }
      ]
    },
    {
      "cell_type": "code",
      "metadata": {
        "colab": {
          "base_uri": "https://localhost:8080/"
        },
        "id": "D8iRbWfDk_y1",
        "outputId": "9d2b89e8-526d-4b91-b7b6-385a242931ac"
      },
      "source": [
        "#2\r\n",
        "import re\r\n",
        "reg_exp = r\"[0-9a-zA-Z_]+|\\$[\\d\\.]+|\\S+\"\r\n",
        "sen1=re.findall(reg_exp,sentence1)\r\n",
        "sen2=re.findall(reg_exp,sentence2)\r\n",
        "list_final=sen1+sen2\r\n",
        "print(\"The list of each element correspond to a word in the sentence:\")\r\n",
        "print(list_final)\r\n",
        "print(\"The list of words which are occuring in both sentences are:\")\r\n",
        "for ch in sen1:\r\n",
        "  for ch2 in sen2:\r\n",
        "    if ch==ch2:\r\n",
        "      print(ch)"
      ],
      "execution_count": null,
      "outputs": [
        {
          "output_type": "stream",
          "text": [
            "The list of each element correspond to a word in the sentence:\n",
            "['HI', 'this', 'is', 'Sudheendra', 'I', 'am', 'senior', 'Student']\n",
            "The list of words which are occuring in both sentences are:\n"
          ],
          "name": "stdout"
        }
      ]
    },
    {
      "cell_type": "code",
      "metadata": {
        "id": "19zn6NrylXSz"
      },
      "source": [
        "for ch in sen1:\r\n",
        "  for ch2 in sen2:\r\n",
        "    if ch==ch2:\r\n",
        "      print(ch)"
      ],
      "execution_count": null,
      "outputs": []
    },
    {
      "cell_type": "code",
      "metadata": {
        "colab": {
          "base_uri": "https://localhost:8080/"
        },
        "id": "rruFQxPdljrg",
        "outputId": "59fe309d-0d17-405c-8278-3891e71deddd"
      },
      "source": [
        "#3\r\n",
        "punctuations = '''!()-[]{};:'\"\\,<>./?@#$%^&*_~'''\r\n",
        "sen1_new = \"\"\r\n",
        "sen2_new = \"\"\r\n",
        "for char in sentence1:\r\n",
        "  if char not in punctuations:\r\n",
        "    sen1_new = sen1_new + char\r\n",
        "print(sen1_new)\r\n",
        "\r\n",
        "for char1 in sentence2:\r\n",
        "  if char1 not in punctuations:\r\n",
        "    sen2_new = sen2_new + char1\r\n",
        "print(sen2_new)\r\n"
      ],
      "execution_count": null,
      "outputs": [
        {
          "output_type": "stream",
          "text": [
            "HI this is Sudheendra\n",
            "I am senior Student\n"
          ],
          "name": "stdout"
        }
      ]
    },
    {
      "cell_type": "code",
      "metadata": {
        "colab": {
          "base_uri": "https://localhost:8080/"
        },
        "id": "4JGFso5qlyKK",
        "outputId": "b831ade6-21e3-4de6-9f8a-1619d89ac81e"
      },
      "source": [
        "#4\r\n",
        "sentence1=sentence1.lower()\r\n",
        "sentence2=sentence2.lower()\r\n",
        "vowel_counts = {}\r\n",
        "\r\n",
        "for i in \"aeiou\":\r\n",
        "  count=sentence1.count(i)\r\n",
        "  count1=sentence2.count(i)\r\n",
        "  vowel_counts[i]=count+count1\r\n",
        "vowel_counts"
      ],
      "execution_count": null,
      "outputs": [
        {
          "output_type": "execute_result",
          "data": {
            "text/plain": [
              "{'a': 2, 'e': 4, 'i': 5, 'o': 1, 'u': 2}"
            ]
          },
          "metadata": {
            "tags": []
          },
          "execution_count": 14
        }
      ]
    },
    {
      "cell_type": "markdown",
      "metadata": {
        "id": "CmFoI4jDS9nx"
      },
      "source": [
        "# Question 3 \n",
        "\n",
        "(15 points). The formula that describes the volume V of a sphere with radius r is the following:\n",
        "\n",
        "$ V=\\frac{4}{3}\\ast\\ \\pi\\ast\\ r^3 $\n",
        "\n",
        "Write a program to calculate the value of V when r is in the range of 1–10. Output the result in the following format:\n",
        "\n",
        "\tr\tV\n",
        "\t1\t…\n",
        "\t2\t…\n",
        "\t3\t…\n"
      ]
    },
    {
      "cell_type": "code",
      "metadata": {
        "colab": {
          "base_uri": "https://localhost:8080/"
        },
        "id": "pEyqeioAT95b",
        "outputId": "f5594ed8-42a3-47c3-b032-19f6318174b5"
      },
      "source": [
        "import math\n",
        "def sphere_volume(r):\n",
        "  return (4/3*math.pi*r**3)\n",
        "print ('r     V')\n",
        "for r in range(11):\n",
        "  print (str(r) +\"    \" + str(sphere_volume(r)))\n",
        "  print(\"\\n\")\n",
        "\n"
      ],
      "execution_count": null,
      "outputs": [
        {
          "output_type": "stream",
          "text": [
            "r     V\n",
            "0    0.0\n",
            "\n",
            "\n",
            "1    4.1887902047863905\n",
            "\n",
            "\n",
            "2    33.510321638291124\n",
            "\n",
            "\n",
            "3    113.09733552923254\n",
            "\n",
            "\n",
            "4    268.082573106329\n",
            "\n",
            "\n",
            "5    523.5987755982989\n",
            "\n",
            "\n",
            "6    904.7786842338603\n",
            "\n",
            "\n",
            "7    1436.7550402417319\n",
            "\n",
            "\n",
            "8    2144.660584850632\n",
            "\n",
            "\n",
            "9    3053.6280592892786\n",
            "\n",
            "\n",
            "10    4188.790204786391\n",
            "\n",
            "\n"
          ],
          "name": "stdout"
        }
      ]
    },
    {
      "cell_type": "code",
      "metadata": {
        "id": "pMCr3l8tnu0j"
      },
      "source": [
        ""
      ],
      "execution_count": null,
      "outputs": []
    },
    {
      "cell_type": "markdown",
      "metadata": {
        "id": "o2SMWEpymSxU"
      },
      "source": [
        ""
      ]
    },
    {
      "cell_type": "markdown",
      "metadata": {
        "id": "z3tBE7E-Xn5X"
      },
      "source": [
        "# Question 4\n",
        "\n",
        "(40 points). In the field of Data Science, data is often formatted as a comma-delimited (CSV) file, where each line in a file corresponds to a field's value. Refer to Chapter 9 (p. 106) for more information on comma-delimited files. To answer this question, you will need to download the file [Assignment1_denton_housing.csv](https://github.com/unt-iialab/info5731_spring2021/blob/main/assignment/Assignment1_denton_housing.csv) included with this assignment. The file [Assignment1_denton_housing.csv](https://github.com/unt-iialab/info5731_spring2021/blob/main/assignment/Assignment1_denton_housing.csv) contains statistics about housing in the city of Denton from 2008 to 2014. Write a program to implement the following questions.\n",
        "\n",
        "(1) (10 pts) Calculate the difference in the number of Occupied Housing Units from year to year and print it. The difference must be calculated for the consecutive years such as 2008-2009, 2009-2010 etc. Finally, print the values in the ascending order.\n",
        "\n",
        "(2) (10 pts) For all the years, calculate the percentage of housing units which are vacant an occupied. Print the results in the following format:\n",
        "\n",
        "Year Vacant Housing Units Occupied Housing Units\n",
        "\n",
        "    2008  30%   70%                          \n",
        "\t2009 ----- -----\n",
        "\t2010 ----- -----\n",
        "    2011 ----- -----\n",
        "\t2012 ----- -----\n",
        "    2013 ----- -----\n",
        "\t2014 ----- -----\n",
        "  \n",
        "  \n",
        "\n",
        "(3) (10 pts) Calculate and print the valued and years in which the highest number of housing units were vacant and occupied. Print the results in the following format:  \n",
        "\n",
        "                              Year\tValue\n",
        "\tVacant Housing Units\t  -----   -----\n",
        "\tOccupied Housing Units\t-----   -----\n",
        "\n",
        "(4) (10 pts) Calculate the harmonic mean of the total housing units and print it out. You can find the information about harmonic mean here: https://ncalculators.com/statistics/harmonic-mean-calculator.htm"
      ]
    },
    {
      "cell_type": "code",
      "metadata": {
        "id": "lqGYuHBhcsRH"
      },
      "source": [
        "# Your code here\n",
        "import pandas as pd\n",
        "url = 'https://raw.githubusercontent.com/unt-iialab/info5731_spring2021/main/assignment/Assignment1_denton_housing.csv'\n",
        "df = pd.read_csv(url, error_bad_lines=False)\n",
        "\n"
      ],
      "execution_count": 16,
      "outputs": []
    },
    {
      "cell_type": "code",
      "metadata": {
        "colab": {
          "base_uri": "https://localhost:8080/",
          "height": 254
        },
        "id": "jnp-Y8uHUTVs",
        "outputId": "866e21b8-c7a0-47d0-e1ec-ca28077dc530"
      },
      "source": [
        "df.sort_index(axis=0,ascending=True,inplace=True)\r\n",
        "df2=df[df.title_field==\"Occupied Housing Units\"].sort_index(axis=0,ascending=True)\r\n",
        "df2=df2.reset_index()\r\n",
        "df2\r\n",
        "df1 = df2.sort_values(by = ['year'],ascending =True)\r\n",
        "df1"
      ],
      "execution_count": 18,
      "outputs": [
        {
          "output_type": "execute_result",
          "data": {
            "text/html": [
              "<div>\n",
              "<style scoped>\n",
              "    .dataframe tbody tr th:only-of-type {\n",
              "        vertical-align: middle;\n",
              "    }\n",
              "\n",
              "    .dataframe tbody tr th {\n",
              "        vertical-align: top;\n",
              "    }\n",
              "\n",
              "    .dataframe thead th {\n",
              "        text-align: right;\n",
              "    }\n",
              "</style>\n",
              "<table border=\"1\" class=\"dataframe\">\n",
              "  <thead>\n",
              "    <tr style=\"text-align: right;\">\n",
              "      <th></th>\n",
              "      <th>index</th>\n",
              "      <th>year</th>\n",
              "      <th>title_field</th>\n",
              "      <th>value</th>\n",
              "    </tr>\n",
              "  </thead>\n",
              "  <tbody>\n",
              "    <tr>\n",
              "      <th>6</th>\n",
              "      <td>20</td>\n",
              "      <td>2008</td>\n",
              "      <td>Occupied Housing Units</td>\n",
              "      <td>36711</td>\n",
              "    </tr>\n",
              "    <tr>\n",
              "      <th>5</th>\n",
              "      <td>17</td>\n",
              "      <td>2009</td>\n",
              "      <td>Occupied Housing Units</td>\n",
              "      <td>35916</td>\n",
              "    </tr>\n",
              "    <tr>\n",
              "      <th>4</th>\n",
              "      <td>14</td>\n",
              "      <td>2010</td>\n",
              "      <td>Occupied Housing Units</td>\n",
              "      <td>41007</td>\n",
              "    </tr>\n",
              "    <tr>\n",
              "      <th>3</th>\n",
              "      <td>11</td>\n",
              "      <td>2011</td>\n",
              "      <td>Occupied Housing Units</td>\n",
              "      <td>40704</td>\n",
              "    </tr>\n",
              "    <tr>\n",
              "      <th>2</th>\n",
              "      <td>8</td>\n",
              "      <td>2012</td>\n",
              "      <td>Occupied Housing Units</td>\n",
              "      <td>42108</td>\n",
              "    </tr>\n",
              "    <tr>\n",
              "      <th>1</th>\n",
              "      <td>5</td>\n",
              "      <td>2013</td>\n",
              "      <td>Occupied Housing Units</td>\n",
              "      <td>43673</td>\n",
              "    </tr>\n",
              "    <tr>\n",
              "      <th>0</th>\n",
              "      <td>2</td>\n",
              "      <td>2014</td>\n",
              "      <td>Occupied Housing Units</td>\n",
              "      <td>46295</td>\n",
              "    </tr>\n",
              "  </tbody>\n",
              "</table>\n",
              "</div>"
            ],
            "text/plain": [
              "   index  year             title_field  value\n",
              "6     20  2008  Occupied Housing Units  36711\n",
              "5     17  2009  Occupied Housing Units  35916\n",
              "4     14  2010  Occupied Housing Units  41007\n",
              "3     11  2011  Occupied Housing Units  40704\n",
              "2      8  2012  Occupied Housing Units  42108\n",
              "1      5  2013  Occupied Housing Units  43673\n",
              "0      2  2014  Occupied Housing Units  46295"
            ]
          },
          "metadata": {
            "tags": []
          },
          "execution_count": 18
        }
      ]
    },
    {
      "cell_type": "code",
      "metadata": {
        "colab": {
          "base_uri": "https://localhost:8080/"
        },
        "id": "M3uopB-8UTI1",
        "outputId": "21e22a35-fed6-4f56-ee50-4b589fcd0ad8"
      },
      "source": [
        "result = df1['value'].diff()\r\n",
        "result\r\n",
        "\r\n",
        "result.sort_values(ascending= True)"
      ],
      "execution_count": 5,
      "outputs": [
        {
          "output_type": "execute_result",
          "data": {
            "text/plain": [
              "5    -795.0\n",
              "3    -303.0\n",
              "2    1404.0\n",
              "1    1565.0\n",
              "0    2622.0\n",
              "4    5091.0\n",
              "6       NaN\n",
              "Name: value, dtype: float64"
            ]
          },
          "metadata": {
            "tags": []
          },
          "execution_count": 5
        }
      ]
    },
    {
      "cell_type": "code",
      "metadata": {
        "id": "DKbQg99EVSeb"
      },
      "source": [
        "df.reset_index(inplace=True)\r\n",
        "occupied_list=[]\r\n",
        "vacant_list=[]\r\n",
        "for i in range(2008,2015):\r\n",
        "  occupied_list.append((df[(df[\"year\"]==i) & (df[\"title_field\"]==\"Occupied Housing Units\")].value.values)/(df[(df[\"year\"]==i) & (df[\"title_field\"]==\"Total Housing Units\")].value.values))\r\n",
        "  vacant_list.append((df[(df[\"year\"]==i) & (df[\"title_field\"]==\"Vacant Housing Units\")].value.values)/(df[(df[\"year\"]==i) & (df[\"title_field\"]==\"Total Housing Units\")].value.values))"
      ],
      "execution_count": 8,
      "outputs": []
    },
    {
      "cell_type": "code",
      "metadata": {
        "colab": {
          "base_uri": "https://localhost:8080/"
        },
        "id": "fu0fZgz-VijH",
        "outputId": "010b4dda-f6d7-48a4-c097-c42e8e05736e"
      },
      "source": [
        "print(\"Year \\t Vacant\\t Occupied\")\r\n",
        "for i in range(2008,2015):\r\n",
        "  print(i,\"\\t\",np.round(vacant_list[i-2008][0]*100,2),\"\\t\",np.round(occupied_list[i-2008][0]*100,2))"
      ],
      "execution_count": 10,
      "outputs": [
        {
          "output_type": "stream",
          "text": [
            "Year \t Vacant\t Occupied\n",
            "2008 \t 10.88 \t 89.12\n",
            "2009 \t 9.07 \t 90.93\n",
            "2010 \t 8.14 \t 91.86\n",
            "2011 \t 9.38 \t 90.62\n",
            "2012 \t 6.68 \t 93.32\n",
            "2013 \t 8.8 \t 91.2\n",
            "2014 \t 5.73 \t 94.27\n"
          ],
          "name": "stdout"
        }
      ]
    },
    {
      "cell_type": "code",
      "metadata": {
        "colab": {
          "base_uri": "https://localhost:8080/"
        },
        "id": "k7QcEo8oW42h",
        "outputId": "78363cf9-fb75-4c59-f697-992faee0aa65"
      },
      "source": [
        "xy=[]\r\n",
        "yz=[]\r\n",
        "for i in range(2008,2015):\r\n",
        "  xy.append(occupied_list[i-2008][0])\r\n",
        "  yz.append(vacant_list[i-2008][0])\r\n",
        "  print(\"\\t\\t\\t year\\t value\")\r\n",
        "for i in enumerate(occupied_list,start=2008):\r\n",
        "  if(i[1][0]==max(xy)):\r\n",
        "    #print(i[0])\r\n",
        "    print(\"Occupied Housing  \\t\",i[0],\"\\t\",(df[(df.year==i[0])&(df.title_field==\"Occupied Housing Units\")].value.values)[0])\r\n",
        "    break\r\n",
        "for i in enumerate(vacant_list,start=2008):\r\n",
        "  if(i[1][0]==max(yz)):\r\n",
        "    #print(i[0])\r\n",
        "    print(\"Vacant Housing \\t\",i[0],\"\\t\",(df[(df.year==i[0])&(df.title_field==\"Vacant Housing Units\")].value.values)[0])\r\n",
        "    break"
      ],
      "execution_count": 12,
      "outputs": [
        {
          "output_type": "stream",
          "text": [
            "\t\t\t year\t value\n",
            "\t\t\t year\t value\n",
            "\t\t\t year\t value\n",
            "\t\t\t year\t value\n",
            "\t\t\t year\t value\n",
            "\t\t\t year\t value\n",
            "\t\t\t year\t value\n",
            "Occupied Housing  \t 2014 \t 46295\n",
            "Vacant Housing \t 2008 \t 4483\n"
          ],
          "name": "stdout"
        }
      ]
    }
  ]
}